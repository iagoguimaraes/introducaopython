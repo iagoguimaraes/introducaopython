{
 "cells": [
  {
   "cell_type": "code",
   "execution_count": 1,
   "metadata": {},
   "outputs": [],
   "source": [
    "from aula1 import exercicios\n",
    "from aula2 import dados\n",
    "from aula2 import decisao\n",
    "from aula2 import repeticao\n",
    "from aula3 import arquivos"
   ]
  },
  {
   "cell_type": "markdown",
   "metadata": {},
   "source": [
    "# Aula 1"
   ]
  },
  {
   "cell_type": "markdown",
   "metadata": {},
   "source": [
    "Fizemos os desafios do pythonchallenge.com"
   ]
  },
  {
   "cell_type": "code",
   "execution_count": 3,
   "metadata": {},
   "outputs": [
    {
     "name": "stdout",
     "output_type": "stream",
     "text": [
      "\n",
      " Resultado do desafio 1: \n",
      "\n",
      "i hope you didnt translate it by hand. thats what computers are for. doing it in by hand is inefficient and that's why this text is so long. using string.maketrans() is recommended. now apply on the url."
     ]
    }
   ],
   "source": [
    "exercicios.desafio_1()"
   ]
  },
  {
   "cell_type": "code",
   "execution_count": 5,
   "metadata": {},
   "outputs": [
    {
     "name": "stdout",
     "output_type": "stream",
     "text": [
      "\n",
      "\n",
      " Resultado do desafio 2: \n",
      "\n",
      "equality\n",
      "\n"
     ]
    }
   ],
   "source": [
    "exercicios.desafio_2()"
   ]
  },
  {
   "cell_type": "markdown",
   "metadata": {},
   "source": [
    "# Aula 2"
   ]
  },
  {
   "cell_type": "markdown",
   "metadata": {},
   "source": [
    "## Exercícios de dados"
   ]
  },
  {
   "cell_type": "code",
   "execution_count": 6,
   "metadata": {},
   "outputs": [
    {
     "name": "stdout",
     "output_type": "stream",
     "text": [
      "Digite seu nome: Thiago\n",
      "T\n",
      "h\n",
      "i\n",
      "a\n",
      "g\n",
      "o\n"
     ]
    }
   ],
   "source": [
    "dados.ex_2(input('Digite seu nome: '))"
   ]
  },
  {
   "cell_type": "code",
   "execution_count": 7,
   "metadata": {},
   "outputs": [
    {
     "name": "stdout",
     "output_type": "stream",
     "text": [
      "Digite a primeira nota: 10\n",
      "Digite a segunda nota: 20\n",
      "Digite a terceira nota: 30\n",
      "Digite a quarta nota: 40\n",
      "Suas notas são: 10.0, 20.0, 30.0 e 40.0\n",
      "Sua média é: 25.0\n"
     ]
    }
   ],
   "source": [
    "dados.ex_3()"
   ]
  },
  {
   "cell_type": "code",
   "execution_count": 8,
   "metadata": {},
   "outputs": [
    {
     "name": "stdout",
     "output_type": "stream",
     "text": [
      "Digite 10 caracteres separados por um espaco: a b c d e f g h i j\n",
      "Quantidade de consoantes digitadas: 7\n",
      "As consoantes digitadas foram: ['b', 'c', 'd', 'f', 'g', 'h', 'j']\n"
     ]
    }
   ],
   "source": [
    "dados.ex_4(input('Digite 10 caracteres separados por um espaco: '))"
   ]
  },
  {
   "cell_type": "code",
   "execution_count": 9,
   "metadata": {},
   "outputs": [
    {
     "name": "stdout",
     "output_type": "stream",
     "text": [
      "Digite a sua data de nascimento (DD/MM/AAAA): 08/11/1988\n",
      "08/Novembro/1988\n"
     ]
    }
   ],
   "source": [
    "dados.ex_6(input('Digite a sua data de nascimento (DD/MM/AAAA): '))"
   ]
  },
  {
   "cell_type": "markdown",
   "metadata": {},
   "source": [
    "## Exercícios de decisão"
   ]
  },
  {
   "cell_type": "code",
   "execution_count": 10,
   "metadata": {},
   "outputs": [
    {
     "name": "stdout",
     "output_type": "stream",
     "text": [
      "Digite um número: 10\n",
      "Digite outro número: 20\n",
      "O número 20.0 é maior.\n"
     ]
    }
   ],
   "source": [
    "decisao.ex_16()"
   ]
  },
  {
   "cell_type": "code",
   "execution_count": 11,
   "metadata": {},
   "outputs": [
    {
     "name": "stdout",
     "output_type": "stream",
     "text": [
      "Digite um número: 20\n",
      "O número 20 é positivo.\n"
     ]
    }
   ],
   "source": [
    "decisao.ex_17(input('Digite um número: '))"
   ]
  },
  {
   "cell_type": "code",
   "execution_count": 12,
   "metadata": {},
   "outputs": [
    {
     "name": "stdout",
     "output_type": "stream",
     "text": [
      "Digite uma letra: a\n",
      "a é uma vogal.\n"
     ]
    }
   ],
   "source": [
    "decisao.ex_19(input('Digite uma letra: '))"
   ]
  },
  {
   "cell_type": "markdown",
   "metadata": {},
   "source": [
    "## Exercícios de repetição"
   ]
  },
  {
   "cell_type": "code",
   "execution_count": 15,
   "metadata": {},
   "outputs": [
    {
     "name": "stdout",
     "output_type": "stream",
     "text": [
      "Digite um número entre 0 e 10: 20\n",
      "Número inválido.\n",
      "Digite um número entre 0 e 10: 4\n",
      "A nota digitada foi 4\n"
     ]
    }
   ],
   "source": [
    "repeticao.ex_29()"
   ]
  },
  {
   "cell_type": "code",
   "execution_count": 17,
   "metadata": {},
   "outputs": [
    {
     "name": "stdout",
     "output_type": "stream",
     "text": [
      "Digite a quantidade de CDs que você possui: 3\n",
      "Digite o valor do CD 1: 20\n",
      "Digite o valor do CD 2: 30\n",
      "Digite o valor do CD 3: 40\n",
      "Você já investiu R$90,00 em CDs\n",
      "O valor médio de cada CD é R$30,00\n"
     ]
    }
   ],
   "source": [
    "repeticao.ex_45()"
   ]
  },
  {
   "cell_type": "code",
   "execution_count": 18,
   "metadata": {},
   "outputs": [
    {
     "name": "stdout",
     "output_type": "stream",
     "text": [
      "Digite um número inteiro: 20\n",
      "O número 20 não é primo.\n"
     ]
    }
   ],
   "source": [
    "repeticao.ex_47(input('Digite um número inteiro: '))"
   ]
  },
  {
   "cell_type": "markdown",
   "metadata": {},
   "source": [
    "# Aula 3"
   ]
  },
  {
   "cell_type": "code",
   "execution_count": 19,
   "metadata": {},
   "outputs": [],
   "source": [
    "arquivos.ex_1()"
   ]
  },
  {
   "cell_type": "code",
   "execution_count": 20,
   "metadata": {},
   "outputs": [],
   "source": [
    "arquivos.ex_2()"
   ]
  },
  {
   "cell_type": "code",
   "execution_count": null,
   "metadata": {},
   "outputs": [],
   "source": []
  }
 ],
 "metadata": {
  "kernelspec": {
   "display_name": "Python 3",
   "language": "python",
   "name": "python3"
  },
  "language_info": {
   "codemirror_mode": {
    "name": "ipython",
    "version": 3
   },
   "file_extension": ".py",
   "mimetype": "text/x-python",
   "name": "python",
   "nbconvert_exporter": "python",
   "pygments_lexer": "ipython3",
   "version": "3.8.0"
  }
 },
 "nbformat": 4,
 "nbformat_minor": 2
}
